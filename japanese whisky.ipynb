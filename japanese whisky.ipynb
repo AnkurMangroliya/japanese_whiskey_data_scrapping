{
 "cells": [
  {
   "cell_type": "code",
   "execution_count": 27,
   "id": "5d5844b0",
   "metadata": {},
   "outputs": [],
   "source": [
    "import requests\n",
    "from bs4 import BeautifulSoup \n",
    "import pandas as pd"
   ]
  },
  {
   "cell_type": "code",
   "execution_count": 58,
   "id": "78810697",
   "metadata": {},
   "outputs": [],
   "source": [
    "baseurl = 'https://www.thewhiskyexchange.com/'\n",
    "headers = {\"User-Agent\": \"Mozilla/5.0 (Windows NT 10.0; Win64; x64) AppleWebKit/537.36 (KHTML, like Gecko) Chrome/107.0.0.0 Safari/537.36 Edg/107.0.1418.62\", \"Accept-Encoding\":\"gzip, deflate\", \"Accept\":\"text/html,application/xhtml+xml,application/xml;q=0.9,*/*;q=0.8\", \"DNT\":\"1\",\"Connection\":\"close\", \"Upgrade-Insecure-Requests\":\"1\"}\n",
    "\n",
    "productlinks =[]\n",
    "\n",
    "for x in range(1,3):\n",
    "    r = requests.get('https://www.thewhiskyexchange.com/c/35/japanese-whisky?pg={x}')\n",
    "    soup = BeautifulSoup(r.content,'lxml')\n",
    "\n",
    "    soup1 = BeautifulSoup(soup.prettify())\n",
    "\n",
    "    productlist = soup1.find_all('div',class_=\"product-grid\")\n",
    "\n",
    "\n",
    "    # print(productlist)\n",
    "\n",
    "    for item in productlist:\n",
    "        for links in item.find_all('a',href=True):\n",
    "            productlinks.append(baseurl + links['href'])\n",
    "    \n",
    "# print(len(productlinks))\n",
    "\n",
    "n=[]\n",
    "p=[]\n",
    "r=[]\n",
    "# testurl = 'https://www.thewhiskyexchange.com/p/42650/chichibu-london-edition-2018'\n",
    "\n",
    "for link in productlinks:\n",
    "\n",
    "    rp = requests.get(link,headers=headers)\n",
    "    so = BeautifulSoup(rp.content,'lxml')\n",
    "\n",
    "    try:\n",
    "        name = so.find('h1',class_=\"product-main__name\").text.strip()\n",
    "    except:\n",
    "        rating = 'No Rating'\n",
    "    try:\n",
    "        price = so.find('p',class_=\"product-action__price\").text.strip()\n",
    "    except:\n",
    "        rating = 'No Rating'\n",
    "\n",
    "\n",
    "    try:\n",
    "        rating = so.find('span',class_=\"review-overview__rating star-rating star-rating--50\").text.strip()\n",
    "    except:\n",
    "        rating = 'No Rating'\n",
    "\n",
    "    \n",
    "    n.append(name)\n",
    "    p.append(price)\n",
    "    r.append(rating)\n",
    "    \n",
    "\n",
    "    \n",
    "\n",
    "\n"
   ]
  },
  {
   "cell_type": "code",
   "execution_count": 59,
   "id": "bbb51e40",
   "metadata": {},
   "outputs": [],
   "source": [
    "whiskey = {'name':n,'price':p,'rating':r}\n"
   ]
  },
  {
   "cell_type": "code",
   "execution_count": 60,
   "id": "78b101b8",
   "metadata": {},
   "outputs": [
    {
     "name": "stdout",
     "output_type": "stream",
     "text": [
      "{'name': ['Suntory Hibiki 17 Year Old', 'Suntory Hibiki 17 Year Old', \"Yamazaki Distiller's Reserve\", 'Nikka Coffey Grain Whisky', 'The Chita Whisky', 'Shinju Japanese Whisky', \"Hakushu Distiller's Reserve\", 'Suntory Toki', 'Yoichi Single Malt', 'Hatozaki 12 Year Old Umeshu Finish', 'Shinju 8 Year Old Japanese Whisky', 'Akashi Single Malt Whisky', 'Hakushu 12 Year Old', 'Suntory Hibiki 17 Year Old', 'Kaiyo Mizunara Oak Cask Strength', \"Ichiro's Malt Double Distilleries 2021\", 'Matsui Mizunara\\nKurayoshi Distillery', 'Miyagikyo Single Malt', 'Mars Komatgatake Edition\\nBot.2021', 'Kaiyo Mizunara Oak', 'Shizuoka Contact S Single Malt\\n3 Year Old', \"Ichiro's Malt & Grain\\nWorld Blended Whisky 2020 Blue Label\", 'Chichibu On The Way\\nBot.2019', 'Kaiyo Peated Mizunara Oak', 'Kaiyo Peated Mizunara Oak', 'Kaiyo Peated Mizunara Oak', \"Yamazaki Distiller's Reserve\", 'Nikka Coffey Grain Whisky', 'The Chita Whisky', 'Shinju Japanese Whisky', \"Hakushu Distiller's Reserve\", 'Suntory Toki', 'Yoichi Single Malt', 'Hatozaki 12 Year Old Umeshu Finish', 'Shinju 8 Year Old Japanese Whisky', 'Akashi Single Malt Whisky', 'Hakushu 12 Year Old', 'Suntory Hibiki 17 Year Old', 'Kaiyo Mizunara Oak Cask Strength', \"Ichiro's Malt Double Distilleries 2021\", 'Matsui Mizunara\\nKurayoshi Distillery', 'Miyagikyo Single Malt', 'Mars Komatgatake Edition\\nBot.2021', 'Kaiyo Mizunara Oak', 'Shizuoka Contact S Single Malt\\n3 Year Old', \"Ichiro's Malt & Grain\\nWorld Blended Whisky 2020 Blue Label\", 'Chichibu On The Way\\nBot.2019', 'Kaiyo Peated Mizunara Oak'], 'price': ['£750', '£750', '£72.95', '£57.95', '£51.95', '£37.45', '£70.95', '£33.95', '£77.75', '£68.95', '£59.75', '£66.75', '£185', '£750', '£110', '£299', '£125', '£78.45', '£145', '£82.95', '£175', '£195', '£450', '£99.95', '£99.95', '£99.95', '£72.95', '£57.95', '£51.95', '£37.45', '£70.95', '£33.95', '£77.75', '£68.95', '£59.75', '£66.75', '£185', '£750', '£110', '£299', '£125', '£78.45', '£145', '£82.95', '£175', '£195', '£450', '£99.95'], 'rating': ['No Rating', 'No Rating', 'No Rating', 'No Rating', 'No Rating', 'No Rating', 'No Rating', 'No Rating', 'No Rating', 'No Rating', 'No Rating', '5', 'No Rating', 'No Rating', '5', 'No Rating', 'No Rating', 'No Rating', 'No Rating', '5', 'No Rating', 'No Rating', 'No Rating', 'No Rating', 'No Rating', 'No Rating', 'No Rating', 'No Rating', 'No Rating', 'No Rating', 'No Rating', 'No Rating', 'No Rating', 'No Rating', 'No Rating', '5', 'No Rating', 'No Rating', '5', 'No Rating', 'No Rating', 'No Rating', 'No Rating', '5', 'No Rating', 'No Rating', 'No Rating', 'No Rating']}\n"
     ]
    }
   ],
   "source": [
    "print(whiskey)"
   ]
  },
  {
   "cell_type": "code",
   "execution_count": 51,
   "id": "f4ba838d",
   "metadata": {},
   "outputs": [],
   "source": [
    "df = pd.DataFrame.from_dict(whiskey)"
   ]
  },
  {
   "cell_type": "code",
   "execution_count": 61,
   "id": "46bab095",
   "metadata": {
    "scrolled": true
   },
   "outputs": [
    {
     "name": "stdout",
     "output_type": "stream",
     "text": [
      "                            name   price     rating\n",
      "0      Kaiyo Peated Mizunara Oak  £99.95  No Rating\n",
      "1      Kaiyo Peated Mizunara Oak  £99.95  No Rating\n",
      "2   Yamazaki Distiller's Reserve  £72.95  No Rating\n",
      "3      Nikka Coffey Grain Whisky  £57.95  No Rating\n",
      "4               The Chita Whisky  £51.95  No Rating\n",
      "..                           ...     ...        ...\n",
      "67    Suntory Hibiki 17 Year Old    £750  No Rating\n",
      "68    Suntory Hibiki 17 Year Old    £750  No Rating\n",
      "69    Suntory Hibiki 17 Year Old    £750  No Rating\n",
      "70    Suntory Hibiki 17 Year Old    £750  No Rating\n",
      "71    Suntory Hibiki 17 Year Old    £750  No Rating\n",
      "\n",
      "[72 rows x 3 columns]\n"
     ]
    }
   ],
   "source": [
    "print(df)"
   ]
  },
  {
   "cell_type": "code",
   "execution_count": null,
   "id": "792f8ece",
   "metadata": {},
   "outputs": [],
   "source": []
  },
  {
   "cell_type": "code",
   "execution_count": 62,
   "id": "267728a8",
   "metadata": {},
   "outputs": [],
   "source": [
    "dfv = df.to_csv('out1.csv')"
   ]
  },
  {
   "cell_type": "code",
   "execution_count": null,
   "id": "e4ba3b1f",
   "metadata": {},
   "outputs": [],
   "source": []
  }
 ],
 "metadata": {
  "kernelspec": {
   "display_name": "Python 3 (ipykernel)",
   "language": "python",
   "name": "python3"
  },
  "language_info": {
   "codemirror_mode": {
    "name": "ipython",
    "version": 3
   },
   "file_extension": ".py",
   "mimetype": "text/x-python",
   "name": "python",
   "nbconvert_exporter": "python",
   "pygments_lexer": "ipython3",
   "version": "3.10.8"
  }
 },
 "nbformat": 4,
 "nbformat_minor": 5
}
